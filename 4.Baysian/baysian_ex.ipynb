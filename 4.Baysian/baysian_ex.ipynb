{
 "cells": [
  {
   "cell_type": "markdown",
   "metadata": {},
   "source": [
    "# 5. Bayesian \n",
    "\n",
    "* 문제\n",
    "* 알고리즘\n",
    "* 구현\n",
    "\n",
    "## 5.1 문제\n",
    "\n",
    "* 사람의 보편적인 인식법칙 -> ‘가장 그럴듯한’ class로 분류\n",
    "* 기계(컴퓨터)의 인식 -> 수학적 틀을 이용하여 프로그래밍이 가능\n",
    "* 기본적인 확률 기초이론을 사용\n",
    "* P(W|X) 특징 X가 주어졌을 때 Class W 에서 발생했을 확률 (**사후 확률**)\n",
    "\n",
    "## 5.2 알고리즘\n",
    "\n",
    "* 확률 기초 (주사위)\n",
    "    + 주사위 던졌을 때 3이 나올 확률 P(x=3) = 1/6\n",
    "    - 여기에서 X는 랜덤 변수이며 이산 값을 가짐\n",
    "\n",
    "* 사람 키\n",
    "    * 사람의 키는 연속 값을 가짐\n",
    "    * 확률 밀도함수\n",
    "  \n",
    "  <img src=\"img\\cdf.jpg\"/>\n",
    "    \n",
    "* 패턴 인식에서 특징 각각이 랜덤 변수에 해당\n",
    "\n",
    "* 확률 실험\n",
    "    * 주머니에서 카드를 뽑아 상자를 선택하고 선택된 상자에서 공을 뽑는 실험\n",
    "    <img src=\"img\\test.jpg\"/>\n",
    "    \n",
    "* 상자 A가 선택될 확률은? : P(X=A) = P(A) = 7/10\n",
    "* 상자 A에서 하얀 공이 뽑힐 확률은? : 조건부 확률 P(하양|A) = 2/10\n",
    "* 상자는 A이고 공은 하양이 뽑힐 확률은? \n",
    "     =  결합 확률 p(A, 하양) = P(하양|A)P(A) = 2/10 * 7/10 = 7/50\n",
    "* 하얀 공이 나올 확률은 ?\u000b",
    " = 주변 확률 P(하양) = P(하양|A)P(A) + P (하양|B)P(B) = 8/25\n",
    "* **P(X)를 사전 확률이라 부름**\n",
    "\n",
    "* 사후 확률\n",
    "    * 하얀 공이 뽑혔는데 어느 상자에서 나왔는지 맞추어라.\n",
    "    * 기본 전략: 상자 A와 B에서 나왔을 가능성을 각각 구하고 큰 가능성을 보인\u000b",
    "상자를 답으로 취한다.\n",
    "\n",
    "    * 방법1 : P(하양|B), P(하양|A) 각 상자에서의 하얀 공이 나타날 확률 인 조건부\u000b",
    "확률을 사용하여 구함\n",
    "        * P(하양|B) 9/15 > P(하양|A) = 2/10 이므로 “상자 B에서 나왔다.” \n",
    "        * 이러한 조건부 확률을 우도(Likelihood)라 부름\n",
    "\n",
    "    * 방법2 : 사전 확률을 사용하여 상자 A와 상자 B의 선택 가능성을 비교\n",
    "        * P(A) = 7/10 > P(B) = 3/10 이므로 “상자 A에서 나왔다.”\n",
    "\n",
    "    * 두 가지 방법의 한계\n",
    "        * 극단적으로 P(A) = 0.999 라면 방법 1이 틀린 것이 확실하다.\n",
    "        * 극단적으로 P(하양|A) = 0.999 라면 방법2가 틀린 것이 확실하다.\n",
    "        * 우도(조건부 확률)와 사전 확률을 모두 고려해야 함\n",
    "    * 해결 방법\n",
    "        * 조건부 확률 P(A|하양)과 P(B|하양)을 비교하여 큰 쪽을 취함\n",
    "        * P(A|하양), P(B|하양)을 **사후 확률**이라고 함\n",
    "        \n",
    "    <img src=\"img\\baysian.jpg\"/>\n",
    "    \n",
    "    "
   ]
  },
  {
   "cell_type": "markdown",
   "metadata": {},
   "source": [
    "# 5.3 구현\n",
    "## 5.3.1 파이썬으로 텍스트 분류하기"
   ]
  },
  {
   "cell_type": "code",
   "execution_count": 8,
   "metadata": {
    "collapsed": true
   },
   "outputs": [],
   "source": [
    "# loadDataSet(): 단어 리스트와 리스트안의 문서가 폭력적인지(0) 폭력적이지 않은지(1) 분류 값을 반환\n",
    "def loadDataSet():\n",
    "    postingList=[['my','dog','has','flea','problems','help','please'],\n",
    "                 ['maybe','not','take','him','to','dog','park','stupid'],\n",
    "                ['my','dalmation','is','so','cute','I','love','him'],\n",
    "                ['stop','posting','stupid','worthless','garbage'],\n",
    "                ['mr','licks','ate','my','steak','how','to','stop','him'],\n",
    "                ['quit','buying','wothless','dog','food','stupid']]\n",
    "    classVec = [0,1,0,1,0,1] # 1: 폭력적인 0: 폭력적이지 않음\n",
    "    return postingList,classVec\n",
    "\n",
    "#createVocabList(dataset) : 단어 리스트 dataSet중 중복된 것을 제거하여 리스트로 반환\n",
    "def createVocabList(dataSet):\n",
    "    vocabSet = set([])\n",
    "    for document in dataSet:\n",
    "        vocabSet = vocabSet | set(document)\n",
    "    return list(vocabSet)\n",
    "\n",
    "#setOfWords2Vec(vocabList, inputSet): inputSet의 단어 들이, vocabList에 있으면 1, 없으면 0인 벡터 리스트 반환#\n",
    "def setOfWords2Vec(vocabList, inputSet):\n",
    "    returnVec = [0]*len(vocabList) \n",
    "    for word in inputSet:\n",
    "        if word in vocabList:\n",
    "            returnVec[vocabList.index(word)] = 1\n",
    "        else: print \"the word: %s is not in my Vocabulary\" % word\n",
    "    return returnVec"
   ]
  },
  {
   "cell_type": "code",
   "execution_count": 9,
   "metadata": {
    "collapsed": false
   },
   "outputs": [
    {
     "data": {
      "text/plain": [
       "['cute',\n",
       " 'love',\n",
       " 'help',\n",
       " 'garbage',\n",
       " 'quit',\n",
       " 'I',\n",
       " 'problems',\n",
       " 'is',\n",
       " 'park',\n",
       " 'stop',\n",
       " 'flea',\n",
       " 'dalmation',\n",
       " 'licks',\n",
       " 'wothless',\n",
       " 'food',\n",
       " 'not',\n",
       " 'him',\n",
       " 'buying',\n",
       " 'posting',\n",
       " 'has',\n",
       " 'worthless',\n",
       " 'ate',\n",
       " 'to',\n",
       " 'maybe',\n",
       " 'please',\n",
       " 'dog',\n",
       " 'how',\n",
       " 'stupid',\n",
       " 'so',\n",
       " 'take',\n",
       " 'mr',\n",
       " 'steak',\n",
       " 'my']"
      ]
     },
     "execution_count": 9,
     "metadata": {},
     "output_type": "execute_result"
    }
   ],
   "source": [
    "listOPosts, listClasses = loadDataSet()\n",
    "myVocabList = createVocabList(listOPosts)\n",
    "myVocabList"
   ]
  },
  {
   "cell_type": "code",
   "execution_count": 10,
   "metadata": {
    "collapsed": false
   },
   "outputs": [
    {
     "data": {
      "text/plain": [
       "[0,\n",
       " 0,\n",
       " 1,\n",
       " 0,\n",
       " 0,\n",
       " 0,\n",
       " 1,\n",
       " 0,\n",
       " 0,\n",
       " 0,\n",
       " 1,\n",
       " 0,\n",
       " 0,\n",
       " 0,\n",
       " 0,\n",
       " 0,\n",
       " 0,\n",
       " 0,\n",
       " 0,\n",
       " 1,\n",
       " 0,\n",
       " 0,\n",
       " 0,\n",
       " 0,\n",
       " 1,\n",
       " 1,\n",
       " 0,\n",
       " 0,\n",
       " 0,\n",
       " 0,\n",
       " 0,\n",
       " 0,\n",
       " 1]"
      ]
     },
     "execution_count": 10,
     "metadata": {},
     "output_type": "execute_result"
    }
   ],
   "source": [
    "setOfWords2Vec(myVocabList,listOPosts[0])"
   ]
  },
  {
   "cell_type": "code",
   "execution_count": 11,
   "metadata": {
    "collapsed": false,
    "scrolled": true
   },
   "outputs": [
    {
     "data": {
      "text/plain": [
       "[0,\n",
       " 0,\n",
       " 0,\n",
       " 1,\n",
       " 0,\n",
       " 0,\n",
       " 0,\n",
       " 0,\n",
       " 0,\n",
       " 1,\n",
       " 0,\n",
       " 0,\n",
       " 0,\n",
       " 0,\n",
       " 0,\n",
       " 0,\n",
       " 0,\n",
       " 0,\n",
       " 1,\n",
       " 0,\n",
       " 1,\n",
       " 0,\n",
       " 0,\n",
       " 0,\n",
       " 0,\n",
       " 0,\n",
       " 0,\n",
       " 1,\n",
       " 0,\n",
       " 0,\n",
       " 0,\n",
       " 0,\n",
       " 0]"
      ]
     },
     "execution_count": 11,
     "metadata": {},
     "output_type": "execute_result"
    }
   ],
   "source": [
    "setOfWords2Vec(myVocabList,listOPosts[3])"
   ]
  },
  {
   "cell_type": "markdown",
   "metadata": {},
   "source": [
    "* 단어 벡터로 확률 계산(베이지안 분류기 훈련)"
   ]
  },
  {
   "cell_type": "code",
   "execution_count": 28,
   "metadata": {
    "collapsed": true
   },
   "outputs": [],
   "source": [
    "from numpy import *\n",
    "\n",
    "def trainNB0(trainMatrix, trainCategory):\n",
    "    numTrainDocs = len(trainMatrix)\n",
    "    numWords = len(trainMatrix[0]) ## 각 분류 항목에 대한 문서의 개수 세기\n",
    "    pAbusive = sum(trainCategory) / float(numTrainDocs) #사전확률 계산 (폭력적이지 않은(1)에 대한)\n",
    "    p0Num = zeros(numWords); p1Num = zeros(numWords) ##초기화\n",
    "    p0Denom = 0.0; p1Denom = 0.0 \n",
    "    for i in range(numTrainDocs): ## 훈련을 위한 모든 문서의 개수만큼 반복\n",
    "        if trainCategory[i] ==1: ## 폭력적인 단어의 문서일 경우\n",
    "            p1Num +=trainMatrix[i] ## 해당문서의 단어 갯수 증가\n",
    "            p1Denom += sum(trainMatrix[i]) ## 전체 문서에서 해당 문서의 단어 갯수\n",
    "        else: ## 비폭력적인 단어의 문서일 경우\n",
    "            p0Num += trainMatrix[i]  ## 해당문서의 단어 갯수 증가\n",
    "            p0Denom += sum(trainMatrix[i])## 전체 문서에서 해당 문서의 단어 갯수\n",
    "    p1Vect = p1Num / p1Denom ## 각 폭력적인 단어들이 전체 폭력적인 단어에서 나타날 확률\n",
    "    p0Vect = p0Num / p0Denom ## 각 비폭력적인 단어들이 전체 비폭력적인 단어에서 나타날 확률\n",
    "        \n",
    "    \n",
    "    return p0Vect,p1Vect,pAbusive\n",
    "    "
   ]
  },
  {
   "cell_type": "code",
   "execution_count": 29,
   "metadata": {
    "collapsed": false
   },
   "outputs": [
    {
     "name": "stdout",
     "output_type": "stream",
     "text": [
      "[ 0.  0.  0.  0.  0.  0.  0.  0.  1.  0.  0.  0.  0.  0.  0.  1.  1.  0.\n",
      "  0.  0.  0.  0.  1.  1.  0.  1.  0.  1.  0.  1.  0.  0.  0.]\n",
      "8.0\n",
      "[ 0.  0.  0.  1.  0.  0.  0.  0.  1.  1.  0.  0.  0.  0.  0.  1.  1.  0.\n",
      "  1.  0.  1.  0.  1.  1.  0.  1.  0.  2.  0.  1.  0.  0.  0.]\n",
      "13.0\n",
      "[ 0.  0.  0.  1.  1.  0.  0.  0.  1.  1.  0.  0.  0.  1.  1.  1.  1.  1.\n",
      "  1.  0.  1.  0.  1.  1.  0.  2.  0.  3.  0.  1.  0.  0.  0.]\n",
      "19.0\n"
     ]
    }
   ],
   "source": [
    "from numpy import *\n",
    "\n",
    "trainMat=[]\n",
    "for postingDoc in listOPosts:\n",
    "    trainMat.append(setOfWords2Vec(myVocabList,postingDoc)) ## 각 5개의 문서의 단어가 전체 단어에서의 위치 혹은 존재 여부\n",
    "\n",
    "p0V,p1V,pAb=trainNB0(trainMat,listClasses)"
   ]
  },
  {
   "cell_type": "code",
   "execution_count": 17,
   "metadata": {
    "collapsed": false
   },
   "outputs": [
    {
     "data": {
      "text/plain": [
       "0.5"
      ]
     },
     "execution_count": 17,
     "metadata": {},
     "output_type": "execute_result"
    }
   ],
   "source": [
    "pAb"
   ]
  },
  {
   "cell_type": "code",
   "execution_count": 18,
   "metadata": {
    "collapsed": false
   },
   "outputs": [
    {
     "data": {
      "text/plain": [
       "array([ 0.04166667,  0.04166667,  0.04166667,  0.        ,  0.        ,\n",
       "        0.04166667,  0.04166667,  0.04166667,  0.        ,  0.04166667,\n",
       "        0.04166667,  0.04166667,  0.04166667,  0.        ,  0.        ,\n",
       "        0.        ,  0.08333333,  0.        ,  0.        ,  0.04166667,\n",
       "        0.        ,  0.04166667,  0.04166667,  0.        ,  0.04166667,\n",
       "        0.04166667,  0.04166667,  0.        ,  0.04166667,  0.        ,\n",
       "        0.04166667,  0.04166667,  0.125     ])"
      ]
     },
     "execution_count": 18,
     "metadata": {},
     "output_type": "execute_result"
    }
   ],
   "source": [
    "p0V"
   ]
  },
  {
   "cell_type": "code",
   "execution_count": 19,
   "metadata": {
    "collapsed": false
   },
   "outputs": [
    {
     "data": {
      "text/plain": [
       "array([ 0.        ,  0.        ,  0.        ,  0.05263158,  0.05263158,\n",
       "        0.        ,  0.        ,  0.        ,  0.05263158,  0.05263158,\n",
       "        0.        ,  0.        ,  0.        ,  0.05263158,  0.05263158,\n",
       "        0.05263158,  0.05263158,  0.05263158,  0.05263158,  0.        ,\n",
       "        0.05263158,  0.        ,  0.05263158,  0.05263158,  0.        ,\n",
       "        0.10526316,  0.        ,  0.15789474,  0.        ,  0.05263158,\n",
       "        0.        ,  0.        ,  0.        ])"
      ]
     },
     "execution_count": 19,
     "metadata": {},
     "output_type": "execute_result"
    }
   ],
   "source": [
    "p1V"
   ]
  },
  {
   "cell_type": "code",
   "execution_count": 32,
   "metadata": {
    "collapsed": true
   },
   "outputs": [],
   "source": [
    "## 확률 벡터에 log를 취하도록 변경\n",
    "## 분모 값을 2.0으로 초기화\n",
    "## 이전 함수의 결함을 처리하기 위한 변경\n",
    "## 1. 확률값이 아주 작을 경우 곱셈시 언더플로우가 일어나는것을 방지\n",
    "## 2. 조건부 확률에서 0으로 나누어 지는경우 방지\n",
    "\n",
    "def trainNB0(trainMatrix,trainCategory):\n",
    "    numTrainDocs=len(trainMatrix)\n",
    "    numWords=len(trainMatrix[0])\n",
    "    pAbusive=sum(trainCategory)/float(numTrainDocs)\n",
    "    p0Num=ones(numWords);p1Num=ones(numWords)  ##zeros->ones\n",
    "    p0Denom=2.0;p1Denom=2.0  ##0.0->2.0\n",
    "    for i in range(numTrainDocs):\n",
    "        if trainCategory[i]==1:\n",
    "            p1Num+=trainMatrix[i]\n",
    "            p1Denom+=sum(trainMatrix[i])\n",
    "        else:\n",
    "            p0Num+=trainMatrix[i]\n",
    "            p0Denom+=sum(trainMatrix[i])\n",
    "    p1Vect=log(p1Num/p1Denom)      ## p1Num/p1Denom -> log(p1Num/p1Denom)\n",
    "    p0Vect=log(p0Num/p0Denom)      ## p0Num/p0Denom -> log(p0Num/p0Denom)\n",
    "    return p0Vect,p1Vect,pAbusive\n",
    "\n",
    "    "
   ]
  },
  {
   "cell_type": "code",
   "execution_count": 33,
   "metadata": {
    "collapsed": false
   },
   "outputs": [],
   "source": [
    "def classifyNB(vec2Classify, p0Vec, p1Vec, pClass1):\n",
    "    p1 = sum(vec2Classify * p1Vec) + log(pClass1)    #element-wise mult\n",
    "    p0 = sum(vec2Classify * p0Vec) + log(1.0 - pClass1)\n",
    "    if p1 > p0:\n",
    "        return 1\n",
    "    else: \n",
    "        return 0\n",
    "    \n",
    "def testingNB():\n",
    "    listOPosts,listClasses = loadDataSet()\n",
    "    myVocabList = createVocabList(listOPosts)\n",
    "    trainMat=[]\n",
    "    for postinDoc in listOPosts:\n",
    "        trainMat.append(setOfWords2Vec(myVocabList, postinDoc))\n",
    "    p0V,p1V,pAb = trainNB0(array(trainMat),array(listClasses))\n",
    "    testEntry = ['love', 'my', 'dalmation']\n",
    "    thisDoc = array(setOfWords2Vec(myVocabList, testEntry))\n",
    "    print testEntry,'classified as: ',classifyNB(thisDoc,p0V,p1V,pAb)\n",
    "    testEntry = ['stupid', 'garbage']\n",
    "    thisDoc = array(setOfWords2Vec(myVocabList, testEntry))\n",
    "    print testEntry,'classified as: ',classifyNB(thisDoc,p0V,p1V,pAb)\n",
    "    \n",
    "def bagOfWords2VecMN(vocabList, inputSet):\n",
    "    returnVec = [0]*len(vocabList)\n",
    "    for word in inputSet:\n",
    "        if word in vocabList:\n",
    "            returnVec[vocabList.index(word)] += 1\n",
    "    return returnVec"
   ]
  },
  {
   "cell_type": "code",
   "execution_count": 34,
   "metadata": {
    "collapsed": false
   },
   "outputs": [
    {
     "name": "stdout",
     "output_type": "stream",
     "text": [
      "['love', 'my', 'dalmation'] classified as:  0\n",
      "['stupid', 'garbage'] classified as:  1\n"
     ]
    }
   ],
   "source": [
    "testingNB()"
   ]
  },
  {
   "cell_type": "markdown",
   "metadata": {},
   "source": [
    "## 5.3.2 스팸 이메일 분류하기"
   ]
  },
  {
   "cell_type": "code",
   "execution_count": 39,
   "metadata": {
    "collapsed": false
   },
   "outputs": [
    {
     "data": {
      "text/plain": [
       "['This',\n",
       " 'book',\n",
       " 'is',\n",
       " 'the',\n",
       " 'best',\n",
       " 'book',\n",
       " 'on',\n",
       " 'Python',\n",
       " 'or',\n",
       " 'M.L.',\n",
       " 'I',\n",
       " 'have',\n",
       " 'ever',\n",
       " 'laid',\n",
       " 'eyes',\n",
       " 'upon.']"
      ]
     },
     "execution_count": 39,
     "metadata": {},
     "output_type": "execute_result"
    }
   ],
   "source": [
    "MySent = 'This book is the best book on Python or M.L. I have ever laid eyes upon.'\n",
    "MySent.split()"
   ]
  },
  {
   "cell_type": "code",
   "execution_count": 44,
   "metadata": {
    "collapsed": false
   },
   "outputs": [
    {
     "data": {
      "text/plain": [
       "['This',\n",
       " 'book',\n",
       " 'is',\n",
       " 'the',\n",
       " 'best',\n",
       " 'book',\n",
       " 'on',\n",
       " 'Python',\n",
       " 'or',\n",
       " 'M',\n",
       " 'L',\n",
       " 'I',\n",
       " 'have',\n",
       " 'ever',\n",
       " 'laid',\n",
       " 'eyes',\n",
       " 'upon',\n",
       " '']"
      ]
     },
     "execution_count": 44,
     "metadata": {},
     "output_type": "execute_result"
    }
   ],
   "source": [
    "# 구두점(.) 제거\n",
    "import re\n",
    "regEx = re.compile('\\\\W*')\n",
    "listOfTokens = regEx.split(MySent)\n",
    "listOfTokens"
   ]
  },
  {
   "cell_type": "code",
   "execution_count": 49,
   "metadata": {
    "collapsed": false
   },
   "outputs": [],
   "source": [
    "\n",
    "def textParse(bigString):    #input is big string, #output is word list\n",
    "    import re\n",
    "    listOfTokens = re.split(r'\\W*', bigString)\n",
    "    return [tok.lower() for tok in listOfTokens if len(tok) > 2] \n",
    "    \n",
    "def spamTest():\n",
    "    docList=[]; classList = []; fullText =[]\n",
    "    for i in range(1,26):\n",
    "        wordList = textParse(open('email/spam/%d.txt' % i).read())\n",
    "        docList.append(wordList)\n",
    "        fullText.extend(wordList)\n",
    "        classList.append(1)\n",
    "        wordList = textParse(open('email/ham/%d.txt' % i).read())\n",
    "        docList.append(wordList)\n",
    "        fullText.extend(wordList)\n",
    "        classList.append(0)\n",
    "    vocabList = createVocabList(docList)#create vocabulary\n",
    "    trainingSet = range(50); testSet=[]           #create test set\n",
    "    for i in range(10):\n",
    "        randIndex = int(random.uniform(0,len(trainingSet)))\n",
    "        testSet.append(trainingSet[randIndex])\n",
    "        del(trainingSet[randIndex])  \n",
    "    trainMat=[]; trainClasses = []\n",
    "    for docIndex in trainingSet:#train the classifier (get probs) trainNB0\n",
    "        trainMat.append(bagOfWords2VecMN(vocabList, docList[docIndex]))\n",
    "        trainClasses.append(classList[docIndex])\n",
    "    p0V,p1V,pSpam = trainNB0(array(trainMat),array(trainClasses))\n",
    "    errorCount = 0\n",
    "    for docIndex in testSet:        #classify the remaining items\n",
    "        wordVector = bagOfWords2VecMN(vocabList, docList[docIndex])\n",
    "        if classifyNB(array(wordVector),p0V,p1V,pSpam) != classList[docIndex]:\n",
    "            errorCount += 1\n",
    "            print \"classification error\",docList[docIndex]\n",
    "    print 'the error rate is: ',float(errorCount)/len(testSet)\n",
    "    #return vocabList,fullText\n",
    "\n"
   ]
  },
  {
   "cell_type": "code",
   "execution_count": 50,
   "metadata": {
    "collapsed": false
   },
   "outputs": [
    {
     "name": "stdout",
     "output_type": "stream",
     "text": [
      "classification error ['thanks', 'peter', 'definitely', 'check', 'this', 'how', 'your', 'book', 'going', 'heard', 'chapter', 'came', 'and', 'was', 'good', 'shape', 'hope', 'you', 'are', 'doing', 'well', 'cheers', 'troy']\n",
      "classification error ['peter', 'with', 'jose', 'out', 'town', 'you', 'want', 'meet', 'once', 'while', 'keep', 'things', 'going', 'and', 'some', 'interesting', 'stuff', 'let', 'know', 'eugene']\n",
      "classification error ['linkedin', 'kerry', 'haloney', 'requested', 'add', 'you', 'connection', 'linkedin', 'peter', 'like', 'add', 'you', 'professional', 'network', 'linkedin', 'kerry', 'haloney']\n",
      "classification error ['zach', 'hamm', 'commented', 'your', 'status', 'zach', 'wrote', 'doggy', 'style', 'enough', 'said', 'thank', 'you', 'good', 'night']\n",
      "the error rate is:  0.4\n"
     ]
    }
   ],
   "source": [
    "spamTest()"
   ]
  },
  {
   "cell_type": "code",
   "execution_count": null,
   "metadata": {
    "collapsed": true
   },
   "outputs": [],
   "source": []
  }
 ],
 "metadata": {
  "kernelspec": {
   "display_name": "Python 2",
   "language": "python",
   "name": "python2"
  },
  "language_info": {
   "codemirror_mode": {
    "name": "ipython",
    "version": 2
   },
   "file_extension": ".py",
   "mimetype": "text/x-python",
   "name": "python",
   "nbconvert_exporter": "python",
   "pygments_lexer": "ipython2",
   "version": "2.7.11"
  }
 },
 "nbformat": 4,
 "nbformat_minor": 0
}
