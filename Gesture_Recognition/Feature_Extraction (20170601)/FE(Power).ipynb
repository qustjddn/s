{
 "cells": [
  {
   "cell_type": "code",
   "execution_count": 1,
   "metadata": {
    "collapsed": false
   },
   "outputs": [],
   "source": [
    "from numpy import *\n",
    "\n",
    "def power(data,window_size):\n",
    "    \n",
    "    sum = 0;\n",
    "    for i in range(window_size):\n",
    "        sum += abs(data[i])\n",
    "        \n",
    "    return sum"
   ]
  },
  {
   "cell_type": "code",
   "execution_count": 2,
   "metadata": {
    "collapsed": false,
    "scrolled": false
   },
   "outputs": [],
   "source": [
    "dataMat = [];\n",
    "resultMat = [];\n",
    "\n",
    "fr = open('input.txt')\n",
    "line = fr.readline()\n",
    "lineArr = line.strip().split('\\t')\n",
    "d = lineArr[1]\n",
    "for line in fr.readlines():\n",
    "    lineArr = line.strip().split('\\t')\n",
    "    temp = [];\n",
    "    for i in range(int(d)):\n",
    "        temp.append(int(lineArr[i]))\n",
    "    dataMat.append(temp)\n",
    "\n",
    "dataMat_T = map(list, zip(*dataMat))\n",
    "for i in range(0,len(dataMat_T[0]),4):\n",
    "    temp = [];\n",
    "    for j in range(int(d)):\n",
    "        if (i+4) < len(dataMat_T[0]):\n",
    "            temp.append(power(dataMat_T[j][i:i+4],4))\n",
    "    if (i+4) < len(dataMat_T[0]):\n",
    "        resultMat.append(temp)\n",
    "           "
   ]
  },
  {
   "cell_type": "code",
   "execution_count": 3,
   "metadata": {
    "collapsed": false
   },
   "outputs": [
    {
     "name": "stdout",
     "output_type": "stream",
     "text": [
      "[4175, 4571, 3920, 4505, 4061, 4210, 3908, 3982, 3957]\n"
     ]
    }
   ],
   "source": [
    "print resultMat[0]"
   ]
  },
  {
   "cell_type": "code",
   "execution_count": 4,
   "metadata": {
    "collapsed": false
   },
   "outputs": [],
   "source": [
    "f = open(\"result.txt\", 'w')\n",
    "for i in range(len(resultMat)):\n",
    "    for j in range(int(d)):\n",
    "        data = \"%d\\t\" % resultMat[i][j]\n",
    "        f.write(data)\n",
    "    f.write(\"\\n\")\n",
    "f.close()"
   ]
  }
 ],
 "metadata": {
  "kernelspec": {
   "display_name": "Python 2",
   "language": "python",
   "name": "python2"
  },
  "language_info": {
   "codemirror_mode": {
    "name": "ipython",
    "version": 2
   },
   "file_extension": ".py",
   "mimetype": "text/x-python",
   "name": "python",
   "nbconvert_exporter": "python",
   "pygments_lexer": "ipython2",
   "version": "2.7.13"
  }
 },
 "nbformat": 4,
 "nbformat_minor": 0
}
