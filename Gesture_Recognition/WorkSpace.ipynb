{
 "cells": [
  {
   "cell_type": "code",
   "execution_count": 37,
   "metadata": {
    "collapsed": false
   },
   "outputs": [
    {
     "data": {
      "text/plain": [
       "<module 'MultiClassSVM' from 'MultiClassSVM.pyc'>"
      ]
     },
     "execution_count": 37,
     "metadata": {},
     "output_type": "execute_result"
    }
   ],
   "source": [
    "from numpy import *\n",
    "import MultiClassSVM as MSVM\n",
    "reload(MSVM)"
   ]
  },
  {
   "cell_type": "code",
   "execution_count": 38,
   "metadata": {
    "collapsed": false
   },
   "outputs": [
    {
     "name": "stdout",
     "output_type": "stream",
     "text": [
      "the training error rate is: 0.000000\n",
      "the training error rate is: 0.000000\n",
      "the training error rate is: 0.000000\n",
      "the training error rate is: 0.205714\n",
      "the training error rate is: 0.400000\n"
     ]
    }
   ],
   "source": [
    "dataArr,labelArr,M,d = MSVM.loadDataSet('data/Training_data_2.txt')\n",
    "\n",
    "MSVM.TrainingMultiSVM(dataArr,labelArr,M)"
   ]
  },
  {
   "cell_type": "code",
   "execution_count": 39,
   "metadata": {
    "collapsed": false
   },
   "outputs": [
    {
     "name": "stdout",
     "output_type": "stream",
     "text": [
      "the test error rate is: 0.000000\n"
     ]
    }
   ],
   "source": [
    "dataArr,labelArr,M,d = MSVM.loadDataSet('data/Validation_data_2.txt')\n",
    "MSVM.validationSVM(dataArr,labelArr,M)"
   ]
  }
 ],
 "metadata": {
  "kernelspec": {
   "display_name": "Python 2",
   "language": "python",
   "name": "python2"
  },
  "language_info": {
   "codemirror_mode": {
    "name": "ipython",
    "version": 2
   },
   "file_extension": ".py",
   "mimetype": "text/x-python",
   "name": "python",
   "nbconvert_exporter": "python",
   "pygments_lexer": "ipython2",
   "version": "2.7.13"
  }
 },
 "nbformat": 4,
 "nbformat_minor": 2
}
