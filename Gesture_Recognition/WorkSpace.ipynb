{
 "cells": [
  {
   "cell_type": "code",
   "execution_count": 27,
   "metadata": {
    "collapsed": false
   },
   "outputs": [
    {
     "data": {
      "text/plain": [
       "<module 'MultiClassSVM' from 'MultiClassSVM.pyc'>"
      ]
     },
     "execution_count": 27,
     "metadata": {},
     "output_type": "execute_result"
    }
   ],
   "source": [
    "from numpy import *\n",
    "import MultiClassSVM as MSVM\n",
    "reload(MSVM)"
   ]
  },
  {
   "cell_type": "code",
   "execution_count": 28,
   "metadata": {
    "collapsed": false
   },
   "outputs": [
    {
     "name": "stdout",
     "output_type": "stream",
     "text": [
      "the training error rate is: 0.000000\n",
      "the training error rate is: 0.000000\n",
      "the training error rate is: 0.000000\n",
      "the training error rate is: 0.000000\n",
      "the training error rate is: 0.000000\n"
     ]
    }
   ],
   "source": [
    "dataArr,labelArr,M,d = MSVM.loadDataSet('data/Training_data.txt')\n",
    "\n",
    "MSVM.TrainingMultiSVM(dataArr,labelArr,M)"
   ]
  },
  {
   "cell_type": "code",
   "execution_count": 31,
   "metadata": {
    "collapsed": false
   },
   "outputs": [
    {
     "name": "stdout",
     "output_type": "stream",
     "text": [
      "the test error rate is: 0.805556\n"
     ]
    }
   ],
   "source": [
    "dataArr,labelArr,M,d = MSVM.loadDataSet('data/Validation_data.txt')\n",
    "MSVM.validationSVM(dataArr,labelArr,M)"
   ]
  }
 ],
 "metadata": {
  "kernelspec": {
   "display_name": "Python 2",
   "language": "python",
   "name": "python2"
  },
  "language_info": {
   "codemirror_mode": {
    "name": "ipython",
    "version": 2
   },
   "file_extension": ".py",
   "mimetype": "text/x-python",
   "name": "python",
   "nbconvert_exporter": "python",
   "pygments_lexer": "ipython2",
   "version": "2.7.13"
  }
 },
 "nbformat": 4,
 "nbformat_minor": 2
}
