{
 "cells": [
  {
   "cell_type": "code",
   "execution_count": 1,
   "metadata": {
    "collapsed": true
   },
   "outputs": [],
   "source": [
    "from numpy import *\n",
    "import operator\n",
    "\n",
    "def createDataSet():\n",
    "    group = array([[1.0,1.1],[1.0,1.0],[0,0],[0,0.1]]) # trainingSet\n",
    "    labels = ['A','A','B','B'] # labels\n",
    "    return group, labels\n"
   ]
  },
  {
   "cell_type": "code",
   "execution_count": 2,
   "metadata": {
    "collapsed": false
   },
   "outputs": [
    {
     "name": "stdout",
     "output_type": "stream",
     "text": [
      "[[ 1.   1.1]\n",
      " [ 1.   1. ]\n",
      " [ 0.   0. ]\n",
      " [ 0.   0.1]]\n",
      "['A', 'A', 'B', 'B']\n"
     ]
    }
   ],
   "source": [
    "group, labels = createDataSet()\n",
    "print group\n",
    "print labels"
   ]
  },
  {
   "cell_type": "code",
   "execution_count": 3,
   "metadata": {
    "collapsed": true
   },
   "outputs": [],
   "source": [
    "def classify0(inX, dataSet, labels, k):\n",
    "    ################### 1. 거리 계산 ###################\n",
    "    \n",
    "    dataSetSize = dataSet.shape[0] # dataSet 행렬의 row 갯수\n",
    "    # 유클리디안 거리 계산\n",
    "    diffMat = tile(inX, (dataSetSize,1)) - dataSet # dataSet과 inX의 차를 계산\n",
    "    sqDiffMat = diffMat**2 # 제곱 연산\n",
    "    sqDistances = sqDiffMat.sum(axis=1) # 두 데이터의 합을 계산\n",
    "    distances = sqDistances**0.5 # 루트 연산\n",
    "    # 오름차순 정렬\n",
    "    sortedDistIndicies = distances.argsort()\n",
    "    \n",
    "    ####################################################\n",
    "    \n",
    "    ################### 2. 가장 짧은 k거리를 투표 ###################\n",
    "    \n",
    "    classCount={}\n",
    "    for i in range(k):\n",
    "        voteIlabel = labels[sortedDistIndicies[i]]\n",
    "        classCount[voteIlabel] = classCount.get(voteIlabel, 0) + 1 # a = a + 1\n",
    "    \n",
    "    #################################################################\n",
    "    \n",
    "    ################## 3. 아이템 정렬 ##################\n",
    "    \n",
    "    sortedClassCount = sorted(classCount.iteritems(),\n",
    "                             key = operator.itemgetter(1), reverse=True) # 내림차순 정렬\n",
    "    \n",
    "    ####################################################\n",
    "    \n",
    "    return sortedClassCount[0][0]\n"
   ]
  },
  {
   "cell_type": "code",
   "execution_count": 4,
   "metadata": {
    "collapsed": false
   },
   "outputs": [
    {
     "data": {
      "text/plain": [
       "array([[1, 0, 1, 0],\n",
       "       [1, 0, 1, 0],\n",
       "       [1, 0, 1, 0]])"
      ]
     },
     "execution_count": 4,
     "metadata": {},
     "output_type": "execute_result"
    }
   ],
   "source": [
    "\n",
    "\n",
    "\n",
    "\n",
    "a = [1,0]\n",
    "diffMat = tile(a, (3,2))\n",
    "diffMat\n"
   ]
  },
  {
   "cell_type": "code",
   "execution_count": 5,
   "metadata": {
    "collapsed": false
   },
   "outputs": [
    {
     "data": {
      "text/plain": [
       "'B'"
      ]
     },
     "execution_count": 5,
     "metadata": {},
     "output_type": "execute_result"
    }
   ],
   "source": [
    "group, labels = createDataSet()\n",
    "\n",
    "classify0([0,0], group, labels, 3)"
   ]
  },
  {
   "cell_type": "code",
   "execution_count": 25,
   "metadata": {
    "collapsed": true
   },
   "outputs": [],
   "source": [
    "def file2matrix(filename):\n",
    "    fr = open(filename)\n",
    "    numberOfLines = len(fr.readlines())\n",
    "    returnMat = zeros((numberOfLines, 3))\n",
    "    classLabelVector = []\n",
    "    fr = open(filename)\n",
    "    index = 0\n",
    "    for line in fr.readlines():\n",
    "        line = line.strip()\n",
    "        listFromLine = line.split('\\t')\n",
    "        returnMat[index, :] = listFromLine[0:3]\n",
    "        #classLabelVector.append(listFromLine[-1])\n",
    "        if (listFromLine[-1].isdigit()):\n",
    "            classLabelVector.append(int(listFromLine[-1]))    \n",
    "        else:\n",
    "            classLabelVector.append(listFromLine[-1])\n",
    "        index += 1\n",
    "    return returnMat, classLabelVector\n"
   ]
  },
  {
   "cell_type": "code",
   "execution_count": null,
   "metadata": {
    "collapsed": true
   },
   "outputs": [],
   "source": []
  }
 ],
 "metadata": {
  "kernelspec": {
   "display_name": "Python 2",
   "language": "python",
   "name": "python2"
  },
  "language_info": {
   "codemirror_mode": {
    "name": "ipython",
    "version": 2
   },
   "file_extension": ".py",
   "mimetype": "text/x-python",
   "name": "python",
   "nbconvert_exporter": "python",
   "pygments_lexer": "ipython2",
   "version": "2.7.11"
  }
 },
 "nbformat": 4,
 "nbformat_minor": 0
}
